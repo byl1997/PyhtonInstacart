{
 "cells": [
  {
   "cell_type": "markdown",
   "id": "98df0fb0",
   "metadata": {},
   "source": [
    "# 01. Importing Libraries"
   ]
  },
  {
   "cell_type": "code",
   "execution_count": 1,
   "id": "23f6ad3d",
   "metadata": {},
   "outputs": [],
   "source": [
    "import pandas as pd\n",
    "import numpy as np\n",
    "import os"
   ]
  },
  {
   "cell_type": "markdown",
   "id": "8bc7d038",
   "metadata": {},
   "source": [
    "# 02. Importing Data"
   ]
  },
  {
   "cell_type": "code",
   "execution_count": 2,
   "id": "b15f0cd5",
   "metadata": {},
   "outputs": [],
   "source": [
    "path = r'C:\\Users\\byl19\\Downloads\\02-2023 Instacart Basket Analysis'"
   ]
  },
  {
   "cell_type": "code",
   "execution_count": 4,
   "id": "ae41a9eb",
   "metadata": {},
   "outputs": [],
   "source": [
    "df_op = pd.read_pickle(r'C:\\Users\\byl19\\Downloads\\02-2023 Instacart Basket Analysis\\02 Data\\Prepared Data\\orders_products_merged.pkl')"
   ]
  },
  {
   "cell_type": "code",
   "execution_count": 4,
   "id": "2bcd15e6",
   "metadata": {},
   "outputs": [],
   "source": [
    "df_entire = pd.read_pickle(r'C:\\Users\\byl19\\Downloads\\02-2023 Instacart Basket Analysis\\02 Data\\Prepared Data\\opm.pkl')"
   ]
  },
  {
   "cell_type": "code",
   "execution_count": 7,
   "id": "9a073540",
   "metadata": {},
   "outputs": [],
   "source": [
    "#creating data subset\n",
    "df_op = df_op[:1000000]"
   ]
  },
  {
   "cell_type": "markdown",
   "id": "4f45298e",
   "metadata": {},
   "source": [
    "# 03. Code Writing"
   ]
  },
  {
   "cell_type": "code",
   "execution_count": 5,
   "id": "8e4090ba",
   "metadata": {},
   "outputs": [],
   "source": [
    "# Price Label function\n",
    "def price_label(row):\n",
    "    if row['prices'] <= 5:\n",
    "        return 'Low-range product'\n",
    "    elif (row['prices'] > 5) and (row['prices'] <= 15):\n",
    "        return 'Mid-range product'\n",
    "    elif row ['prices'] > 15:\n",
    "        return 'High range'\n",
    "    else: return 'Not enough data'"
   ]
  },
  {
   "cell_type": "code",
   "execution_count": 11,
   "id": "ad900241",
   "metadata": {},
   "outputs": [],
   "source": [
    "#adding the price range column\n",
    "df_op['price_range'] = df_op.apply(price_label, axis = 1)"
   ]
  },
  {
   "cell_type": "code",
   "execution_count": 16,
   "id": "4f20058e",
   "metadata": {},
   "outputs": [
    {
     "data": {
      "text/plain": [
       "Mid-range product    756450\n",
       "Low-range product    243550\n",
       "Name: price_range, dtype: int64"
      ]
     },
     "execution_count": 16,
     "metadata": {},
     "output_type": "execute_result"
    }
   ],
   "source": [
    "df_op['price_range'].value_counts(dropna = False)"
   ]
  },
  {
   "cell_type": "code",
   "execution_count": 17,
   "id": "45720cd8",
   "metadata": {},
   "outputs": [
    {
     "data": {
      "text/plain": [
       "14.8"
      ]
     },
     "execution_count": 17,
     "metadata": {},
     "output_type": "execute_result"
    }
   ],
   "source": [
    "df_op['prices'].max()"
   ]
  },
  {
   "cell_type": "code",
   "execution_count": 6,
   "id": "5742aef0",
   "metadata": {},
   "outputs": [
    {
     "ename": "NameError",
     "evalue": "name 'df_op' is not defined",
     "output_type": "error",
     "traceback": [
      "\u001b[1;31m---------------------------------------------------------------------------\u001b[0m",
      "\u001b[1;31mNameError\u001b[0m                                 Traceback (most recent call last)",
      "\u001b[1;32m~\\AppData\\Local\\Temp\\ipykernel_16456\\2047373692.py\u001b[0m in \u001b[0;36m<module>\u001b[1;34m\u001b[0m\n\u001b[0;32m      1\u001b[0m \u001b[1;31m#price range using loc\u001b[0m\u001b[1;33m\u001b[0m\u001b[1;33m\u001b[0m\u001b[0m\n\u001b[1;32m----> 2\u001b[1;33m \u001b[0mdf_op\u001b[0m\u001b[1;33m.\u001b[0m\u001b[0mloc\u001b[0m\u001b[1;33m[\u001b[0m\u001b[0mdf_op\u001b[0m\u001b[1;33m[\u001b[0m\u001b[1;34m'prices'\u001b[0m\u001b[1;33m]\u001b[0m \u001b[1;33m>\u001b[0m \u001b[1;36m15\u001b[0m\u001b[1;33m,\u001b[0m \u001b[1;34m'price_range_loc'\u001b[0m\u001b[1;33m]\u001b[0m \u001b[1;33m=\u001b[0m \u001b[1;34m'High range product'\u001b[0m\u001b[1;33m\u001b[0m\u001b[1;33m\u001b[0m\u001b[0m\n\u001b[0m",
      "\u001b[1;31mNameError\u001b[0m: name 'df_op' is not defined"
     ]
    }
   ],
   "source": [
    "#price range using loc\n",
    "df_op.loc[df_op['prices'] > 15, 'price_range_loc'] = 'High range product'"
   ]
  },
  {
   "cell_type": "code",
   "execution_count": 19,
   "id": "1db7145f",
   "metadata": {},
   "outputs": [],
   "source": [
    "df_op.loc[(df_op['prices'] <= 15) & (df_op['prices'] > 5), 'price_range_loc'] = 'Mid range product'"
   ]
  },
  {
   "cell_type": "code",
   "execution_count": 20,
   "id": "05acc2f4",
   "metadata": {},
   "outputs": [],
   "source": [
    "df_op.loc[df_op['prices'] <= 5, 'price_range_loc'] = 'Low range product'"
   ]
  },
  {
   "cell_type": "code",
   "execution_count": 21,
   "id": "cada9d5b",
   "metadata": {},
   "outputs": [
    {
     "data": {
      "text/plain": [
       "Mid range product    756450\n",
       "Low range product    243550\n",
       "Name: price_range_loc, dtype: int64"
      ]
     },
     "execution_count": 21,
     "metadata": {},
     "output_type": "execute_result"
    }
   ],
   "source": [
    "df_op['price_range_loc'].value_counts(dropna = False)"
   ]
  },
  {
   "cell_type": "code",
   "execution_count": 7,
   "id": "d4a0b6c9",
   "metadata": {},
   "outputs": [],
   "source": [
    "# applying loc on entire df\n",
    "df_entire.loc[df_entire['prices'] <= 5, 'price_range_loc'] = 'Low range product'"
   ]
  },
  {
   "cell_type": "code",
   "execution_count": 8,
   "id": "54dcbfa4",
   "metadata": {},
   "outputs": [],
   "source": [
    "df_entire.loc[(df_entire['prices'] <= 15) & (df_entire['prices'] > 5), 'price_range_loc'] = 'Mid range product'"
   ]
  },
  {
   "cell_type": "code",
   "execution_count": 9,
   "id": "2bc4c580",
   "metadata": {},
   "outputs": [],
   "source": [
    "df_entire.loc[df_entire['prices'] > 15, 'price_range_loc'] = 'High range product'"
   ]
  },
  {
   "cell_type": "code",
   "execution_count": 10,
   "id": "eaee7be4",
   "metadata": {},
   "outputs": [
    {
     "data": {
      "text/plain": [
       "Mid range product     21860860\n",
       "Low range product     10126321\n",
       "High range product      417678\n",
       "Name: price_range_loc, dtype: int64"
      ]
     },
     "execution_count": 10,
     "metadata": {},
     "output_type": "execute_result"
    }
   ],
   "source": [
    "df_entire['price_range_loc'].value_counts(dropna = False)"
   ]
  },
  {
   "cell_type": "code",
   "execution_count": 11,
   "id": "55c9b3c2",
   "metadata": {},
   "outputs": [
    {
     "data": {
      "text/plain": [
       "0    6204182\n",
       "1    5660230\n",
       "6    4496490\n",
       "2    4213830\n",
       "5    4205791\n",
       "3    3840534\n",
       "4    3783802\n",
       "Name: orders_day_of_week, dtype: int64"
      ]
     },
     "execution_count": 11,
     "metadata": {},
     "output_type": "execute_result"
    }
   ],
   "source": [
    "# for-loop in entire df\n",
    "df_entire['orders_day_of_week'].value_counts(dropna = False)"
   ]
  },
  {
   "cell_type": "code",
   "execution_count": 12,
   "id": "88556df8",
   "metadata": {},
   "outputs": [],
   "source": [
    "result = []\n",
    "\n",
    "for value in df_entire['orders_day_of_week']:\n",
    "    if value == 0:\n",
    "        result.append('Busiest day')\n",
    "    elif value == 4:\n",
    "        result.append('Least busy')\n",
    "    else:\n",
    "        result.append('Regularly busy')"
   ]
  },
  {
   "cell_type": "code",
   "execution_count": 13,
   "id": "6eb90c20",
   "metadata": {},
   "outputs": [],
   "source": [
    "#combining result with df\n",
    "df_entire['busiest day'] = result"
   ]
  },
  {
   "cell_type": "code",
   "execution_count": 14,
   "id": "81a279e2",
   "metadata": {},
   "outputs": [
    {
     "data": {
      "text/plain": [
       "Regularly busy    22416875\n",
       "Busiest day        6204182\n",
       "Least busy         3783802\n",
       "Name: busiest day, dtype: int64"
      ]
     },
     "execution_count": 14,
     "metadata": {},
     "output_type": "execute_result"
    }
   ],
   "source": [
    "df_entire['busiest day'].value_counts(dropna = False)"
   ]
  },
  {
   "cell_type": "markdown",
   "id": "0d5dc1e3",
   "metadata": {},
   "source": [
    "# 04. Exercise Questions"
   ]
  },
  {
   "cell_type": "code",
   "execution_count": 15,
   "id": "aa717d0a",
   "metadata": {},
   "outputs": [],
   "source": [
    "#2 busiest/slowest days\n",
    "result = []\n",
    "\n",
    "for value in df_entire['orders_day_of_week']:\n",
    "    if value == 0:\n",
    "        result.append('Busiest days')\n",
    "    elif value == 1:\n",
    "        result.append('Busiest days')\n",
    "    elif value == 4:\n",
    "        result.append('Slowest days')\n",
    "    elif value == 3:\n",
    "        result.append('Slowest days')\n",
    "    else:\n",
    "        result.append('Regularly busy')"
   ]
  },
  {
   "cell_type": "code",
   "execution_count": 16,
   "id": "df69a8c0",
   "metadata": {},
   "outputs": [],
   "source": [
    "df_entire['busiest days'] = result"
   ]
  },
  {
   "cell_type": "code",
   "execution_count": 17,
   "id": "6d151e8d",
   "metadata": {},
   "outputs": [
    {
     "data": {
      "text/plain": [
       "Regularly busy    12916111\n",
       "Busiest days      11864412\n",
       "Slowest days       7624336\n",
       "Name: busiest days, dtype: int64"
      ]
     },
     "execution_count": 17,
     "metadata": {},
     "output_type": "execute_result"
    }
   ],
   "source": [
    "#3\n",
    "df_entire['busiest days'].value_counts(dropna = False)"
   ]
  },
  {
   "cell_type": "markdown",
   "id": "e97419f6",
   "metadata": {},
   "source": [
    "#3\n",
    "With the addition of sunday or '1' to our busiest days that almost doubled our total and is really close to surpasing the amount in regularly busy days. With the slowest days we added Tuesday or '3' which basically doubled the value but is still the lowest amount compared to our busiest and regular days which makes sence since there are the least amount of orders on those 2 days."
   ]
  },
  {
   "cell_type": "code",
   "execution_count": 18,
   "id": "134f2997",
   "metadata": {},
   "outputs": [
    {
     "data": {
      "text/plain": [
       "10    2761760\n",
       "11    2736140\n",
       "14    2689136\n",
       "15    2662144\n",
       "13    2660954\n",
       "12    2618532\n",
       "16    2535202\n",
       "9     2454203\n",
       "17    2087654\n",
       "8     1718118\n",
       "18    1636502\n",
       "19    1258305\n",
       "20     976156\n",
       "7      891054\n",
       "21     795637\n",
       "22     634225\n",
       "23     402316\n",
       "6      290493\n",
       "0      218769\n",
       "1      115700\n",
       "5       87961\n",
       "2       69375\n",
       "4       53242\n",
       "3       51281\n",
       "Name: order_hour_of_day, dtype: int64"
      ]
     },
     "execution_count": 18,
     "metadata": {},
     "output_type": "execute_result"
    }
   ],
   "source": [
    "#4 finding what hour of days is busiest/slowest\n",
    "df_entire['order_hour_of_day'].value_counts(dropna = False)"
   ]
  },
  {
   "cell_type": "code",
   "execution_count": 19,
   "id": "012f5bb7",
   "metadata": {},
   "outputs": [],
   "source": [
    "#4 creating time periods\n",
    "result2 = []\n",
    "\n",
    "for value in df_entire['order_hour_of_day']:\n",
    "    if value == 10:\n",
    "        result2.append('Most orders')\n",
    "    elif value == 11:\n",
    "        result2.append('Most orders')\n",
    "    elif value == 14:\n",
    "        result2.append('Most orders')\n",
    "    elif value == 15:\n",
    "        result2.append('Most orders')\n",
    "    elif value == 13:\n",
    "        result2.append('Most orders')\n",
    "    elif value == 12:\n",
    "        result2.append('Most orders')\n",
    "    elif value == 16:\n",
    "        result2.append('Most orders')\n",
    "    elif value == 9:\n",
    "        result2.append('Most orders')\n",
    "    elif value == 23:\n",
    "        result2.append('Fewest orders')\n",
    "    elif value == 6:\n",
    "        result2.append('Fewest orders')\n",
    "    elif value == 0:\n",
    "        result2.append('Fewest orders')\n",
    "    elif value == 1:\n",
    "        result2.append('Fewest orders')\n",
    "    elif value == 5:\n",
    "        result2.append('Fewest orders')\n",
    "    elif value == 2:\n",
    "        result2.append('Fewest orders')\n",
    "    elif value == 4:\n",
    "        result2.append('Fewest orders')\n",
    "    elif value == 3:\n",
    "        result2.append('Fewest orders')\n",
    "    else:\n",
    "        result2.append('Average orders')\n",
    "   \n",
    "        "
   ]
  },
  {
   "cell_type": "code",
   "execution_count": 20,
   "id": "741b0ab0",
   "metadata": {},
   "outputs": [],
   "source": [
    "#4 putting column in df\n",
    "df_entire['busiest_period_of_day'] = result2"
   ]
  },
  {
   "cell_type": "code",
   "execution_count": 21,
   "id": "fdfb616d",
   "metadata": {},
   "outputs": [
    {
     "data": {
      "text/plain": [
       "Most orders       21118071\n",
       "Average orders     9997651\n",
       "Fewest orders      1289137\n",
       "Name: busiest_period_of_day, dtype: int64"
      ]
     },
     "execution_count": 21,
     "metadata": {},
     "output_type": "execute_result"
    }
   ],
   "source": [
    "#4 counting values in column\n",
    "df_entire['busiest_period_of_day'].value_counts(dropna = False)"
   ]
  },
  {
   "cell_type": "code",
   "execution_count": 22,
   "id": "9741dc9f",
   "metadata": {},
   "outputs": [],
   "source": [
    "#7\n",
    "df_entire.to_pickle(os.path.join(path, '02 Data','Prepared Data', 'opm.pkl'))"
   ]
  },
  {
   "cell_type": "code",
   "execution_count": null,
   "id": "c48ce37f",
   "metadata": {},
   "outputs": [],
   "source": []
  }
 ],
 "metadata": {
  "kernelspec": {
   "display_name": "Python 3 (ipykernel)",
   "language": "python",
   "name": "python3"
  },
  "language_info": {
   "codemirror_mode": {
    "name": "ipython",
    "version": 3
   },
   "file_extension": ".py",
   "mimetype": "text/x-python",
   "name": "python",
   "nbconvert_exporter": "python",
   "pygments_lexer": "ipython3",
   "version": "3.9.13"
  }
 },
 "nbformat": 4,
 "nbformat_minor": 5
}
