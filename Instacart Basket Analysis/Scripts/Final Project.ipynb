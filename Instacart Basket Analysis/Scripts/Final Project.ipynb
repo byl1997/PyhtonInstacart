{
 "cells": [
  {
   "cell_type": "markdown",
   "id": "491b33d1",
   "metadata": {},
   "source": [
    "Table of contents\n",
    "- Import data and libraries\n",
    "- Addressing PII\n",
    "- Giving states a region\n",
    "- Activity exclusion flag\n",
    "- Income stats/graph\n",
    "- Creating customer profiles\n",
    "- Customer profiles graph\n",
    "- Statistics of days since prior order per profile\n",
    "- Crosstabs of department ID and Region per profile\n",
    "- Graphs"
   ]
  },
  {
   "cell_type": "markdown",
   "id": "343bba11",
   "metadata": {},
   "source": [
    "# 01. Import Data and Libraries"
   ]
  },
  {
   "cell_type": "code",
   "execution_count": 1,
   "id": "fcbd3936",
   "metadata": {},
   "outputs": [],
   "source": [
    "import pandas as pd\n",
    "import numpy as np\n",
    "import os\n",
    "import matplotlib.pyplot as plt\n",
    "import seaborn as sns \n",
    "import scipy"
   ]
  },
  {
   "cell_type": "code",
   "execution_count": 2,
   "id": "9edd3334",
   "metadata": {},
   "outputs": [],
   "source": [
    "path = r'C:\\Users\\byl19\\Downloads\\02-2023 Instacart Basket Analysis'"
   ]
  },
  {
   "cell_type": "code",
   "execution_count": 3,
   "id": "0bc60d51",
   "metadata": {},
   "outputs": [
    {
     "ename": "MemoryError",
     "evalue": "",
     "output_type": "error",
     "traceback": [
      "\u001b[1;31m---------------------------------------------------------------------------\u001b[0m",
      "\u001b[1;31mMemoryError\u001b[0m                               Traceback (most recent call last)",
      "\u001b[1;32m~\\AppData\\Local\\Temp\\ipykernel_29184\\3892084337.py\u001b[0m in \u001b[0;36m<module>\u001b[1;34m\u001b[0m\n\u001b[1;32m----> 1\u001b[1;33m \u001b[0mmerged\u001b[0m \u001b[1;33m=\u001b[0m \u001b[0mpd\u001b[0m\u001b[1;33m.\u001b[0m\u001b[0mread_pickle\u001b[0m\u001b[1;33m(\u001b[0m\u001b[1;34mr'C:\\Users\\byl19\\Downloads\\02-2023 Instacart Basket Analysis\\02 Data\\Prepared Data\\merged.pkl'\u001b[0m\u001b[1;33m)\u001b[0m\u001b[1;33m\u001b[0m\u001b[1;33m\u001b[0m\u001b[0m\n\u001b[0m",
      "\u001b[1;32m~\\anaconda3\\lib\\site-packages\\pandas\\io\\pickle.py\u001b[0m in \u001b[0;36mread_pickle\u001b[1;34m(filepath_or_buffer, compression, storage_options)\u001b[0m\n\u001b[0;32m    203\u001b[0m                     \u001b[1;31m# We want to silence any warnings about, e.g. moved modules.\u001b[0m\u001b[1;33m\u001b[0m\u001b[1;33m\u001b[0m\u001b[0m\n\u001b[0;32m    204\u001b[0m                     \u001b[0mwarnings\u001b[0m\u001b[1;33m.\u001b[0m\u001b[0msimplefilter\u001b[0m\u001b[1;33m(\u001b[0m\u001b[1;34m\"ignore\"\u001b[0m\u001b[1;33m,\u001b[0m \u001b[0mWarning\u001b[0m\u001b[1;33m)\u001b[0m\u001b[1;33m\u001b[0m\u001b[1;33m\u001b[0m\u001b[0m\n\u001b[1;32m--> 205\u001b[1;33m                     \u001b[1;32mreturn\u001b[0m \u001b[0mpickle\u001b[0m\u001b[1;33m.\u001b[0m\u001b[0mload\u001b[0m\u001b[1;33m(\u001b[0m\u001b[0mhandles\u001b[0m\u001b[1;33m.\u001b[0m\u001b[0mhandle\u001b[0m\u001b[1;33m)\u001b[0m\u001b[1;33m\u001b[0m\u001b[1;33m\u001b[0m\u001b[0m\n\u001b[0m\u001b[0;32m    206\u001b[0m             \u001b[1;32mexcept\u001b[0m \u001b[0mexcs_to_catch\u001b[0m\u001b[1;33m:\u001b[0m\u001b[1;33m\u001b[0m\u001b[1;33m\u001b[0m\u001b[0m\n\u001b[0;32m    207\u001b[0m                 \u001b[1;31m# e.g.\u001b[0m\u001b[1;33m\u001b[0m\u001b[1;33m\u001b[0m\u001b[0m\n",
      "\u001b[1;31mMemoryError\u001b[0m: "
     ]
    }
   ],
   "source": [
    "merged = pd.read_pickle(r'C:\\Users\\byl19\\Downloads\\02-2023 Instacart Basket Analysis\\02 Data\\Prepared Data\\merged.pkl')"
   ]
  },
  {
   "cell_type": "code",
   "execution_count": 32,
   "id": "7e3bdcfb",
   "metadata": {},
   "outputs": [],
   "source": [
    "df_departments = pd.read_csv(os.path.join(path, '02 Data','Prepared Data','departments_wrangled.csv'),index_col = False)"
   ]
  },
  {
   "cell_type": "markdown",
   "id": "f25f098d",
   "metadata": {},
   "source": [
    "# 02. Questions"
   ]
  },
  {
   "cell_type": "markdown",
   "id": "1e20cca4",
   "metadata": {},
   "source": [
    "## 2. "
   ]
  },
  {
   "cell_type": "markdown",
   "id": "d8e65348",
   "metadata": {},
   "source": [
    "In this new merged data set, there is a lot of data that contains PII or personally identifiable information. Some columns within the data that include this are first_name, last_name, gender, state, age, n_dependants (number of dependants), fam_status (family status), and income. Each of these columns could be used to trace back to a individual person and therefore should be used and presented carefully. "
   ]
  },
  {
   "cell_type": "markdown",
   "id": "9553c75d",
   "metadata": {},
   "source": [
    "## 3."
   ]
  },
  {
   "cell_type": "code",
   "execution_count": 4,
   "id": "bf502e09",
   "metadata": {},
   "outputs": [],
   "source": [
    "#Giving each state a region\n",
    "Northeast = ['Maine','New Hampshire','Vermont','Massachusetts','Rhode Island','Connecticut','New York','Pennsylvania','New Jersey']    "
   ]
  },
  {
   "cell_type": "code",
   "execution_count": 5,
   "id": "1ddca0c5",
   "metadata": {},
   "outputs": [],
   "source": [
    "Midwest = ['Wisconsin','Michigan','Illinois','Indiana','Ohio','North Dakota','South Dakota','Nebraska','Kansas','Minnesota','Iowa','Missouri']"
   ]
  },
  {
   "cell_type": "code",
   "execution_count": 6,
   "id": "b4d17ff0",
   "metadata": {},
   "outputs": [],
   "source": [
    "South = ['Delaware','Maryland','District of Columbia','Virginia','West Virginia','North Carolina','South Carolina','Georgia','Florida','Kentucky','Tennessee','Mississippi','Alabama','Oklahoma','Texas','Arkansas','Louisiana']"
   ]
  },
  {
   "cell_type": "code",
   "execution_count": 7,
   "id": "22c22884",
   "metadata": {},
   "outputs": [],
   "source": [
    "West = ['Idaho','Montana','Wyoming','Nevada','Utah','Colorado','Arizona','New Mexico','Alaska','Washington','Oregon','California','Hawaii']"
   ]
  },
  {
   "cell_type": "code",
   "execution_count": 8,
   "id": "227605b3",
   "metadata": {},
   "outputs": [],
   "source": [
    "#Region column\n",
    "merged.loc[merged['state'].isin(Northeast), 'region'] = 'Northeast'"
   ]
  },
  {
   "cell_type": "code",
   "execution_count": 9,
   "id": "044e1720",
   "metadata": {},
   "outputs": [],
   "source": [
    "merged.loc[merged['state'].isin(Midwest), 'region'] = 'Midwest'"
   ]
  },
  {
   "cell_type": "code",
   "execution_count": 10,
   "id": "6d4626a7",
   "metadata": {},
   "outputs": [],
   "source": [
    "merged.loc[merged['state'].isin(South), 'region'] = 'South'"
   ]
  },
  {
   "cell_type": "code",
   "execution_count": 11,
   "id": "e9e4abe6",
   "metadata": {},
   "outputs": [],
   "source": [
    "merged.loc[merged['state'].isin(West), 'region'] = 'West'"
   ]
  },
  {
   "cell_type": "code",
   "execution_count": 12,
   "id": "023e7e42",
   "metadata": {},
   "outputs": [
    {
     "data": {
      "text/plain": [
       "South        10791885\n",
       "West          8292913\n",
       "Midwest       7597325\n",
       "Northeast     5722736\n",
       "Name: region, dtype: int64"
      ]
     },
     "execution_count": 12,
     "metadata": {},
     "output_type": "execute_result"
    }
   ],
   "source": [
    "#checking\n",
    "merged['region'].value_counts(dropna = False)"
   ]
  },
  {
   "cell_type": "markdown",
   "id": "2c649fa0",
   "metadata": {},
   "source": [
    "#all these added up = 32,404,859 which is the right number of rows"
   ]
  },
  {
   "cell_type": "code",
   "execution_count": 13,
   "id": "1f3499ba",
   "metadata": {},
   "outputs": [],
   "source": [
    "#crossing variables\n",
    "crosstab = pd.crosstab(merged['region'], merged['spending_flag'], dropna = False)"
   ]
  },
  {
   "cell_type": "code",
   "execution_count": 14,
   "id": "c4ff2596",
   "metadata": {},
   "outputs": [
    {
     "data": {
      "text/html": [
       "<div>\n",
       "<style scoped>\n",
       "    .dataframe tbody tr th:only-of-type {\n",
       "        vertical-align: middle;\n",
       "    }\n",
       "\n",
       "    .dataframe tbody tr th {\n",
       "        vertical-align: top;\n",
       "    }\n",
       "\n",
       "    .dataframe thead th {\n",
       "        text-align: right;\n",
       "    }\n",
       "</style>\n",
       "<table border=\"1\" class=\"dataframe\">\n",
       "  <thead>\n",
       "    <tr style=\"text-align: right;\">\n",
       "      <th>spending_flag</th>\n",
       "      <th>High spender</th>\n",
       "      <th>Low spender</th>\n",
       "    </tr>\n",
       "    <tr>\n",
       "      <th>region</th>\n",
       "      <th></th>\n",
       "      <th></th>\n",
       "    </tr>\n",
       "  </thead>\n",
       "  <tbody>\n",
       "    <tr>\n",
       "      <th>Midwest</th>\n",
       "      <td>155975</td>\n",
       "      <td>7441350</td>\n",
       "    </tr>\n",
       "    <tr>\n",
       "      <th>Northeast</th>\n",
       "      <td>108225</td>\n",
       "      <td>5614511</td>\n",
       "    </tr>\n",
       "    <tr>\n",
       "      <th>South</th>\n",
       "      <td>209691</td>\n",
       "      <td>10582194</td>\n",
       "    </tr>\n",
       "    <tr>\n",
       "      <th>West</th>\n",
       "      <td>160354</td>\n",
       "      <td>8132559</td>\n",
       "    </tr>\n",
       "  </tbody>\n",
       "</table>\n",
       "</div>"
      ],
      "text/plain": [
       "spending_flag  High spender  Low spender\n",
       "region                                  \n",
       "Midwest              155975      7441350\n",
       "Northeast            108225      5614511\n",
       "South                209691     10582194\n",
       "West                 160354      8132559"
      ]
     },
     "execution_count": 14,
     "metadata": {},
     "output_type": "execute_result"
    }
   ],
   "source": [
    "crosstab"
   ]
  },
  {
   "cell_type": "markdown",
   "id": "89a246ac",
   "metadata": {},
   "source": [
    "## 4. "
   ]
  },
  {
   "cell_type": "code",
   "execution_count": 15,
   "id": "9918ed5d",
   "metadata": {},
   "outputs": [],
   "source": [
    "#creating exclusion flag\n",
    "merged.loc[merged['max_order'] < 5, 'activity'] = 'low-activity'"
   ]
  },
  {
   "cell_type": "code",
   "execution_count": 16,
   "id": "bd9889c2",
   "metadata": {},
   "outputs": [],
   "source": [
    "merged.loc[merged['max_order'] >= 5, 'activity'] = 'high-activity'"
   ]
  },
  {
   "cell_type": "code",
   "execution_count": 17,
   "id": "774a1060",
   "metadata": {
    "scrolled": true
   },
   "outputs": [
    {
     "data": {
      "text/plain": [
       "high-activity    30964564\n",
       "low-activity      1440295\n",
       "Name: activity, dtype: int64"
      ]
     },
     "execution_count": 17,
     "metadata": {},
     "output_type": "execute_result"
    }
   ],
   "source": [
    "merged['activity'].value_counts(dropna = False)"
   ]
  },
  {
   "cell_type": "code",
   "execution_count": 18,
   "id": "94b0f238",
   "metadata": {
    "scrolled": true
   },
   "outputs": [],
   "source": [
    "#new dataframe with only highly active customers\n",
    "merged2 = merged.loc[merged['activity'] == 'high-activity']"
   ]
  },
  {
   "cell_type": "code",
   "execution_count": 20,
   "id": "e4ded202",
   "metadata": {},
   "outputs": [],
   "source": [
    "#exporting new df\n",
    "merged2.to_pickle(os.path.join(path, '02 Data','Prepared Data', 'merged.pkl'))"
   ]
  },
  {
   "cell_type": "markdown",
   "id": "4949b8f6",
   "metadata": {},
   "source": [
    "## 5. "
   ]
  },
  {
   "cell_type": "code",
   "execution_count": 21,
   "id": "f18161cc",
   "metadata": {},
   "outputs": [
    {
     "data": {
      "text/plain": [
       "count    3.096456e+07\n",
       "mean     9.967587e+04\n",
       "std      4.314187e+04\n",
       "min      2.590300e+04\n",
       "25%      6.729200e+04\n",
       "50%      9.676500e+04\n",
       "75%      1.281020e+05\n",
       "max      5.939010e+05\n",
       "Name: income, dtype: float64"
      ]
     },
     "execution_count": 21,
     "metadata": {},
     "output_type": "execute_result"
    }
   ],
   "source": [
    "#checking income stats\n",
    "merged2['income'].describe()"
   ]
  },
  {
   "cell_type": "code",
   "execution_count": 24,
   "id": "f19673ca",
   "metadata": {},
   "outputs": [],
   "source": [
    "#income quartiles\n",
    "income_quartiles = list(merged2['income'].quantile([0.25,0.5,0.75]))"
   ]
  },
  {
   "cell_type": "code",
   "execution_count": 25,
   "id": "6d7685fc",
   "metadata": {},
   "outputs": [
    {
     "data": {
      "text/plain": [
       "[67292.0, 96765.0, 128102.0]"
      ]
     },
     "execution_count": 25,
     "metadata": {},
     "output_type": "execute_result"
    }
   ],
   "source": [
    "income_quartiles"
   ]
  },
  {
   "cell_type": "code",
   "execution_count": 29,
   "id": "513d5442",
   "metadata": {},
   "outputs": [
    {
     "data": {
      "image/png": "[encoded data removed]",
      "text/plain": [
       "<Figure size 640x480 with 1 Axes>"
      ]
     },
     "metadata": {},
     "output_type": "display_data"
    }
   ],
   "source": [
    "#creating graph for incomes\n",
    "hist = merged2['income'].plot.hist(bins=30)"
   ]
  },
  {
   "cell_type": "code",
   "execution_count": 30,
   "id": "e7eb96f0",
   "metadata": {},
   "outputs": [],
   "source": [
    "#saving graph\n",
    "hist.figure.savefig(os.path.join(path, '04 Analysis', 'Visualizations','income_histogram.png'))"
   ]
  },
  {
   "cell_type": "code",
   "execution_count": 33,
   "id": "81bdb47a",
   "metadata": {},
   "outputs": [
    {
     "data": {
      "text/html": [
       "<div>\n",
       "<style scoped>\n",
       "    .dataframe tbody tr th:only-of-type {\n",
       "        vertical-align: middle;\n",
       "    }\n",
       "\n",
       "    .dataframe tbody tr th {\n",
       "        vertical-align: top;\n",
       "    }\n",
       "\n",
       "    .dataframe thead th {\n",
       "        text-align: right;\n",
       "    }\n",
       "</style>\n",
       "<table border=\"1\" class=\"dataframe\">\n",
       "  <thead>\n",
       "    <tr style=\"text-align: right;\">\n",
       "      <th></th>\n",
       "      <th>Unnamed: 0</th>\n",
       "      <th>department</th>\n",
       "    </tr>\n",
       "  </thead>\n",
       "  <tbody>\n",
       "    <tr>\n",
       "      <th>0</th>\n",
       "      <td>1</td>\n",
       "      <td>frozen</td>\n",
       "    </tr>\n",
       "    <tr>\n",
       "      <th>1</th>\n",
       "      <td>2</td>\n",
       "      <td>other</td>\n",
       "    </tr>\n",
       "    <tr>\n",
       "      <th>2</th>\n",
       "      <td>3</td>\n",
       "      <td>bakery</td>\n",
       "    </tr>\n",
       "    <tr>\n",
       "      <th>3</th>\n",
       "      <td>4</td>\n",
       "      <td>produce</td>\n",
       "    </tr>\n",
       "    <tr>\n",
       "      <th>4</th>\n",
       "      <td>5</td>\n",
       "      <td>alcohol</td>\n",
       "    </tr>\n",
       "    <tr>\n",
       "      <th>5</th>\n",
       "      <td>6</td>\n",
       "      <td>international</td>\n",
       "    </tr>\n",
       "    <tr>\n",
       "      <th>6</th>\n",
       "      <td>7</td>\n",
       "      <td>beverages</td>\n",
       "    </tr>\n",
       "    <tr>\n",
       "      <th>7</th>\n",
       "      <td>8</td>\n",
       "      <td>pets</td>\n",
       "    </tr>\n",
       "    <tr>\n",
       "      <th>8</th>\n",
       "      <td>9</td>\n",
       "      <td>dry goods pasta</td>\n",
       "    </tr>\n",
       "    <tr>\n",
       "      <th>9</th>\n",
       "      <td>10</td>\n",
       "      <td>bulk</td>\n",
       "    </tr>\n",
       "    <tr>\n",
       "      <th>10</th>\n",
       "      <td>11</td>\n",
       "      <td>personal care</td>\n",
       "    </tr>\n",
       "    <tr>\n",
       "      <th>11</th>\n",
       "      <td>12</td>\n",
       "      <td>meat seafood</td>\n",
       "    </tr>\n",
       "    <tr>\n",
       "      <th>12</th>\n",
       "      <td>13</td>\n",
       "      <td>pantry</td>\n",
       "    </tr>\n",
       "    <tr>\n",
       "      <th>13</th>\n",
       "      <td>14</td>\n",
       "      <td>breakfast</td>\n",
       "    </tr>\n",
       "    <tr>\n",
       "      <th>14</th>\n",
       "      <td>15</td>\n",
       "      <td>canned goods</td>\n",
       "    </tr>\n",
       "    <tr>\n",
       "      <th>15</th>\n",
       "      <td>16</td>\n",
       "      <td>dairy eggs</td>\n",
       "    </tr>\n",
       "    <tr>\n",
       "      <th>16</th>\n",
       "      <td>17</td>\n",
       "      <td>household</td>\n",
       "    </tr>\n",
       "    <tr>\n",
       "      <th>17</th>\n",
       "      <td>18</td>\n",
       "      <td>babies</td>\n",
       "    </tr>\n",
       "    <tr>\n",
       "      <th>18</th>\n",
       "      <td>19</td>\n",
       "      <td>snacks</td>\n",
       "    </tr>\n",
       "    <tr>\n",
       "      <th>19</th>\n",
       "      <td>20</td>\n",
       "      <td>deli</td>\n",
       "    </tr>\n",
       "    <tr>\n",
       "      <th>20</th>\n",
       "      <td>21</td>\n",
       "      <td>missing</td>\n",
       "    </tr>\n",
       "  </tbody>\n",
       "</table>\n",
       "</div>"
      ],
      "text/plain": [
       "    Unnamed: 0       department\n",
       "0            1           frozen\n",
       "1            2            other\n",
       "2            3           bakery\n",
       "3            4          produce\n",
       "4            5          alcohol\n",
       "5            6    international\n",
       "6            7        beverages\n",
       "7            8             pets\n",
       "8            9  dry goods pasta\n",
       "9           10             bulk\n",
       "10          11    personal care\n",
       "11          12     meat seafood\n",
       "12          13           pantry\n",
       "13          14        breakfast\n",
       "14          15     canned goods\n",
       "15          16       dairy eggs\n",
       "16          17        household\n",
       "17          18           babies\n",
       "18          19           snacks\n",
       "19          20             deli\n",
       "20          21          missing"
      ]
     },
     "execution_count": 33,
     "metadata": {},
     "output_type": "execute_result"
    }
   ],
   "source": [
    "#looking at departments\n",
    "df_departments"
   ]
  },
  {
   "cell_type": "code",
   "execution_count": 46,
   "id": "24c11154",
   "metadata": {},
   "outputs": [
    {
     "data": {
      "text/html": [
       "<div>\n",
       "<style scoped>\n",
       "    .dataframe tbody tr th:only-of-type {\n",
       "        vertical-align: middle;\n",
       "    }\n",
       "\n",
       "    .dataframe tbody tr th {\n",
       "        vertical-align: top;\n",
       "    }\n",
       "\n",
       "    .dataframe thead th {\n",
       "        text-align: right;\n",
       "    }\n",
       "</style>\n",
       "<table border=\"1\" class=\"dataframe\">\n",
       "  <thead>\n",
       "    <tr style=\"text-align: right;\">\n",
       "      <th></th>\n",
       "      <th>department</th>\n",
       "    </tr>\n",
       "  </thead>\n",
       "  <tbody>\n",
       "    <tr>\n",
       "      <th>0</th>\n",
       "      <td>frozen</td>\n",
       "    </tr>\n",
       "    <tr>\n",
       "      <th>1</th>\n",
       "      <td>other</td>\n",
       "    </tr>\n",
       "    <tr>\n",
       "      <th>2</th>\n",
       "      <td>bakery</td>\n",
       "    </tr>\n",
       "    <tr>\n",
       "      <th>3</th>\n",
       "      <td>produce</td>\n",
       "    </tr>\n",
       "    <tr>\n",
       "      <th>4</th>\n",
       "      <td>alcohol</td>\n",
       "    </tr>\n",
       "    <tr>\n",
       "      <th>5</th>\n",
       "      <td>international</td>\n",
       "    </tr>\n",
       "    <tr>\n",
       "      <th>6</th>\n",
       "      <td>beverages</td>\n",
       "    </tr>\n",
       "    <tr>\n",
       "      <th>7</th>\n",
       "      <td>pets</td>\n",
       "    </tr>\n",
       "    <tr>\n",
       "      <th>8</th>\n",
       "      <td>dry goods pasta</td>\n",
       "    </tr>\n",
       "    <tr>\n",
       "      <th>9</th>\n",
       "      <td>bulk</td>\n",
       "    </tr>\n",
       "    <tr>\n",
       "      <th>10</th>\n",
       "      <td>personal care</td>\n",
       "    </tr>\n",
       "    <tr>\n",
       "      <th>11</th>\n",
       "      <td>meat seafood</td>\n",
       "    </tr>\n",
       "    <tr>\n",
       "      <th>12</th>\n",
       "      <td>pantry</td>\n",
       "    </tr>\n",
       "    <tr>\n",
       "      <th>13</th>\n",
       "      <td>breakfast</td>\n",
       "    </tr>\n",
       "    <tr>\n",
       "      <th>14</th>\n",
       "      <td>canned goods</td>\n",
       "    </tr>\n",
       "    <tr>\n",
       "      <th>15</th>\n",
       "      <td>dairy eggs</td>\n",
       "    </tr>\n",
       "    <tr>\n",
       "      <th>16</th>\n",
       "      <td>household</td>\n",
       "    </tr>\n",
       "    <tr>\n",
       "      <th>17</th>\n",
       "      <td>babies</td>\n",
       "    </tr>\n",
       "    <tr>\n",
       "      <th>18</th>\n",
       "      <td>snacks</td>\n",
       "    </tr>\n",
       "    <tr>\n",
       "      <th>19</th>\n",
       "      <td>deli</td>\n",
       "    </tr>\n",
       "    <tr>\n",
       "      <th>20</th>\n",
       "      <td>missing</td>\n",
       "    </tr>\n",
       "  </tbody>\n",
       "</table>\n",
       "</div>"
      ],
      "text/plain": [
       "         department\n",
       "0            frozen\n",
       "1             other\n",
       "2            bakery\n",
       "3           produce\n",
       "4           alcohol\n",
       "5     international\n",
       "6         beverages\n",
       "7              pets\n",
       "8   dry goods pasta\n",
       "9              bulk\n",
       "10    personal care\n",
       "11     meat seafood\n",
       "12           pantry\n",
       "13        breakfast\n",
       "14     canned goods\n",
       "15       dairy eggs\n",
       "16        household\n",
       "17           babies\n",
       "18           snacks\n",
       "19             deli\n",
       "20          missing"
      ]
     },
     "execution_count": 46,
     "metadata": {},
     "output_type": "execute_result"
    }
   ],
   "source": [
    "df_departments.drop(columns = ['Unnamed: 0'])"
   ]
  },
  {
   "cell_type": "markdown",
   "id": "23744271",
   "metadata": {},
   "source": [
    "#list of customer profiles\n",
    "high income familes, average income families, low income families, young parent, old parent, have pets, drink alcohol, eat meat, single adult no kids, married no kids, retired\n"
   ]
  },
  {
   "cell_type": "code",
   "execution_count": 35,
   "id": "37964f13",
   "metadata": {},
   "outputs": [
    {
     "data": {
      "text/plain": [
       "married                             21743711\n",
       "single                               5094410\n",
       "divorced/widowed                     2645271\n",
       "living with parents and siblings     1481172\n",
       "Name: fam_status, dtype: int64"
      ]
     },
     "execution_count": 35,
     "metadata": {},
     "output_type": "execute_result"
    }
   ],
   "source": [
    "merged2['fam_status'].value_counts(dropna = False)"
   ]
  },
  {
   "cell_type": "code",
   "execution_count": 41,
   "id": "ce5fcdf7",
   "metadata": {},
   "outputs": [],
   "source": [
    "#high income families \n",
    "merged2.loc[(merged2['income'] > 128102) & (merged2['n_dependants'] > 1), 'profile'] = 'high-income family'"
   ]
  },
  {
   "cell_type": "code",
   "execution_count": 42,
   "id": "ea78bc90",
   "metadata": {},
   "outputs": [],
   "source": [
    "#average income families\n",
    "merged2.loc[(merged2['income'] < 128102) & (merged2['income'] > 67292) & (merged2['n_dependants'] > 1), 'profile'] = 'average-income family'"
   ]
  },
  {
   "cell_type": "code",
   "execution_count": 43,
   "id": "52e897b8",
   "metadata": {},
   "outputs": [],
   "source": [
    "#low income families\n",
    "merged2.loc[(merged2['income'] < 67292) & (merged2['n_dependants'] > 1), 'profile'] = 'high-income family'"
   ]
  },
  {
   "cell_type": "code",
   "execution_count": 44,
   "id": "29535e50",
   "metadata": {},
   "outputs": [],
   "source": [
    "#young parent\n",
    "merged2.loc[(merged2['department_id'] == 18) & (merged2['age'] <= 35) & (merged2['n_dependants'] > 0), 'profile'] = 'young parent'"
   ]
  },
  {
   "cell_type": "code",
   "execution_count": 45,
   "id": "7a804d65",
   "metadata": {},
   "outputs": [],
   "source": [
    "#old parent\n",
    "merged2.loc[(merged2['department_id'] == 18) & (merged2['age'] > 35) & (merged2['n_dependants'] > 0), 'profile'] = 'old parent'"
   ]
  },
  {
   "cell_type": "code",
   "execution_count": 48,
   "id": "1705b10f",
   "metadata": {},
   "outputs": [],
   "source": [
    "#have pets\n",
    "merged2.loc[merged2['department_id'] == 7, 'profile'] = 'pet_owners'"
   ]
  },
  {
   "cell_type": "code",
   "execution_count": 49,
   "id": "abc22ef7",
   "metadata": {},
   "outputs": [],
   "source": [
    "#drink alcohol\n",
    "merged2.loc[merged2['department_id'] == 4, 'profile'] = 'alcohol_drinkers'"
   ]
  },
  {
   "cell_type": "code",
   "execution_count": 50,
   "id": "8e46b151",
   "metadata": {},
   "outputs": [],
   "source": [
    "#eat meat\n",
    "merged2.loc[merged2['department_id'] == 11, 'profile'] = 'meat_eaters'"
   ]
  },
  {
   "cell_type": "code",
   "execution_count": 51,
   "id": "dcfb5df6",
   "metadata": {},
   "outputs": [],
   "source": [
    "#single adult no kids\n",
    "merged2.loc[(merged2['fam_status'] == 'single') & (merged2['n_dependants'] == 0), 'profile'] = 'single_no_kids'"
   ]
  },
  {
   "cell_type": "code",
   "execution_count": 52,
   "id": "fffb0c85",
   "metadata": {},
   "outputs": [],
   "source": [
    "#married no kids\n",
    "merged2.loc[(merged2['fam_status'] == 'married') & (merged2['n_dependants'] == 0), 'profile'] = 'married_no_kids'"
   ]
  },
  {
   "cell_type": "code",
   "execution_count": 53,
   "id": "ea2a2615",
   "metadata": {},
   "outputs": [],
   "source": [
    "#retired\n",
    "merged2.loc[merged2['age'] >= 65, 'profile'] = 'retired'"
   ]
  },
  {
   "cell_type": "code",
   "execution_count": 57,
   "id": "779c9b1e",
   "metadata": {},
   "outputs": [
    {
     "name": "stderr",
     "output_type": "stream",
     "text": [
      "C:\\Users\\byl19\\AppData\\Local\\Temp\\ipykernel_3596\\2544013354.py:2: SettingWithCopyWarning: \n",
      "A value is trying to be set on a copy of a slice from a DataFrame.\n",
      "Try using .loc[row_indexer,col_indexer] = value instead\n",
      "\n",
      "See the caveats in the documentation: https://pandas.pydata.org/pandas-docs/stable/user_guide/indexing.html#returning-a-view-versus-a-copy\n",
      "  merged2['profile'] = merged2['profile'].fillna('other')\n"
     ]
    }
   ],
   "source": [
    "#everything else\n",
    "merged2['profile'] = merged2['profile'].fillna('other')"
   ]
  },
  {
   "cell_type": "code",
   "execution_count": 56,
   "id": "ced3a15f",
   "metadata": {},
   "outputs": [
    {
     "data": {
      "text/plain": [
       "retired                  8195544\n",
       "alcohol_drinkers         5172822\n",
       "average-income family    5105751\n",
       "single_no_kids           5094410\n",
       "high-income family       5081567\n",
       "pet_owners               1463419\n",
       "other                     380937\n",
       "meat_eaters               243362\n",
       "old parent                142575\n",
       "young parent               84177\n",
       "Name: profile, dtype: int64"
      ]
     },
     "execution_count": 56,
     "metadata": {},
     "output_type": "execute_result"
    }
   ],
   "source": [
    "merged2['profile'].value_counts(dropna = False)"
   ]
  },
  {
   "cell_type": "markdown",
   "id": "8e389a28",
   "metadata": {},
   "source": [
    "## 6."
   ]
  },
  {
   "cell_type": "code",
   "execution_count": 68,
   "id": "9ade2f8f",
   "metadata": {},
   "outputs": [
    {
     "data": {
      "text/plain": [
       "Text(0.5, 0, 'Customer profile')"
      ]
     },
     "execution_count": 68,
     "metadata": {},
     "output_type": "execute_result"
    },
    {
     "data": {
      "image/png": "[encoded data removed]",
      "text/plain": [
       "<Figure size 1000x500 with 1 Axes>"
      ]
     },
     "metadata": {},
     "output_type": "display_data"
    }
   ],
   "source": [
    "#visualization for customer profiles\n",
    "bar = merged2['profile'].value_counts().plot.bar(rot = 45, figsize = (10,5))\n",
    "plt.ylabel ('Number of Customers (mil)')\n",
    "plt.xlabel ('Customer profile')"
   ]
  },
  {
   "cell_type": "code",
   "execution_count": 69,
   "id": "f383bbba",
   "metadata": {},
   "outputs": [],
   "source": [
    "#save bar graph\n",
    "bar.figure.savefig(os.path.join(path, '04 Analysis', 'Visualizations','customer_profiles_barchart.png'))"
   ]
  },
  {
   "cell_type": "markdown",
   "id": "816c38ac",
   "metadata": {},
   "source": [
    "## 7."
   ]
  },
  {
   "cell_type": "code",
   "execution_count": 71,
   "id": "893f31d1",
   "metadata": {},
   "outputs": [],
   "source": [
    "#fixing prices\n",
    "merged2.loc[merged2['prices'] > 100, 'prices'] = np.nan"
   ]
  },
  {
   "cell_type": "code",
   "execution_count": 72,
   "id": "15643f4c",
   "metadata": {},
   "outputs": [
    {
     "data": {
      "text/html": [
       "<div>\n",
       "<style scoped>\n",
       "    .dataframe tbody tr th:only-of-type {\n",
       "        vertical-align: middle;\n",
       "    }\n",
       "\n",
       "    .dataframe tbody tr th {\n",
       "        vertical-align: top;\n",
       "    }\n",
       "\n",
       "    .dataframe thead tr th {\n",
       "        text-align: left;\n",
       "    }\n",
       "\n",
       "    .dataframe thead tr:last-of-type th {\n",
       "        text-align: right;\n",
       "    }\n",
       "</style>\n",
       "<table border=\"1\" class=\"dataframe\">\n",
       "  <thead>\n",
       "    <tr>\n",
       "      <th></th>\n",
       "      <th colspan=\"3\" halign=\"left\">prices</th>\n",
       "      <th colspan=\"3\" halign=\"left\">days_since_prior_order</th>\n",
       "    </tr>\n",
       "    <tr>\n",
       "      <th></th>\n",
       "      <th>max</th>\n",
       "      <th>min</th>\n",
       "      <th>mean</th>\n",
       "      <th>max</th>\n",
       "      <th>min</th>\n",
       "      <th>mean</th>\n",
       "    </tr>\n",
       "    <tr>\n",
       "      <th>profile</th>\n",
       "      <th></th>\n",
       "      <th></th>\n",
       "      <th></th>\n",
       "      <th></th>\n",
       "      <th></th>\n",
       "      <th></th>\n",
       "    </tr>\n",
       "  </thead>\n",
       "  <tbody>\n",
       "    <tr>\n",
       "      <th>alcohol_drinkers</th>\n",
       "      <td>15.0</td>\n",
       "      <td>1.0</td>\n",
       "      <td>7.979148</td>\n",
       "      <td>30.0</td>\n",
       "      <td>-1.0</td>\n",
       "      <td>9.987518</td>\n",
       "    </tr>\n",
       "    <tr>\n",
       "      <th>average-income family</th>\n",
       "      <td>25.0</td>\n",
       "      <td>1.0</td>\n",
       "      <td>7.906604</td>\n",
       "      <td>30.0</td>\n",
       "      <td>-1.0</td>\n",
       "      <td>10.234975</td>\n",
       "    </tr>\n",
       "    <tr>\n",
       "      <th>high-income family</th>\n",
       "      <td>25.0</td>\n",
       "      <td>1.0</td>\n",
       "      <td>7.512758</td>\n",
       "      <td>30.0</td>\n",
       "      <td>-1.0</td>\n",
       "      <td>10.364329</td>\n",
       "    </tr>\n",
       "    <tr>\n",
       "      <th>meat_eaters</th>\n",
       "      <td>15.0</td>\n",
       "      <td>1.0</td>\n",
       "      <td>7.987968</td>\n",
       "      <td>30.0</td>\n",
       "      <td>-1.0</td>\n",
       "      <td>10.547896</td>\n",
       "    </tr>\n",
       "    <tr>\n",
       "      <th>old parent</th>\n",
       "      <td>15.0</td>\n",
       "      <td>1.0</td>\n",
       "      <td>7.638846</td>\n",
       "      <td>30.0</td>\n",
       "      <td>-1.0</td>\n",
       "      <td>9.126712</td>\n",
       "    </tr>\n",
       "    <tr>\n",
       "      <th>other</th>\n",
       "      <td>25.0</td>\n",
       "      <td>1.0</td>\n",
       "      <td>7.734189</td>\n",
       "      <td>30.0</td>\n",
       "      <td>-1.0</td>\n",
       "      <td>10.194140</td>\n",
       "    </tr>\n",
       "    <tr>\n",
       "      <th>pet_owners</th>\n",
       "      <td>15.0</td>\n",
       "      <td>1.0</td>\n",
       "      <td>7.678006</td>\n",
       "      <td>30.0</td>\n",
       "      <td>-1.0</td>\n",
       "      <td>10.176103</td>\n",
       "    </tr>\n",
       "    <tr>\n",
       "      <th>retired</th>\n",
       "      <td>25.0</td>\n",
       "      <td>1.0</td>\n",
       "      <td>7.796715</td>\n",
       "      <td>30.0</td>\n",
       "      <td>-1.0</td>\n",
       "      <td>10.157298</td>\n",
       "    </tr>\n",
       "    <tr>\n",
       "      <th>single_no_kids</th>\n",
       "      <td>25.0</td>\n",
       "      <td>1.0</td>\n",
       "      <td>7.783597</td>\n",
       "      <td>30.0</td>\n",
       "      <td>-1.0</td>\n",
       "      <td>10.179026</td>\n",
       "    </tr>\n",
       "    <tr>\n",
       "      <th>young parent</th>\n",
       "      <td>15.0</td>\n",
       "      <td>1.0</td>\n",
       "      <td>7.657430</td>\n",
       "      <td>30.0</td>\n",
       "      <td>-1.0</td>\n",
       "      <td>9.312758</td>\n",
       "    </tr>\n",
       "  </tbody>\n",
       "</table>\n",
       "</div>"
      ],
      "text/plain": [
       "                      prices                days_since_prior_order       \\\n",
       "                         max  min      mean                    max  min   \n",
       "profile                                                                   \n",
       "alcohol_drinkers        15.0  1.0  7.979148                   30.0 -1.0   \n",
       "average-income family   25.0  1.0  7.906604                   30.0 -1.0   \n",
       "high-income family      25.0  1.0  7.512758                   30.0 -1.0   \n",
       "meat_eaters             15.0  1.0  7.987968                   30.0 -1.0   \n",
       "old parent              15.0  1.0  7.638846                   30.0 -1.0   \n",
       "other                   25.0  1.0  7.734189                   30.0 -1.0   \n",
       "pet_owners              15.0  1.0  7.678006                   30.0 -1.0   \n",
       "retired                 25.0  1.0  7.796715                   30.0 -1.0   \n",
       "single_no_kids          25.0  1.0  7.783597                   30.0 -1.0   \n",
       "young parent            15.0  1.0  7.657430                   30.0 -1.0   \n",
       "\n",
       "                                  \n",
       "                            mean  \n",
       "profile                           \n",
       "alcohol_drinkers        9.987518  \n",
       "average-income family  10.234975  \n",
       "high-income family     10.364329  \n",
       "meat_eaters            10.547896  \n",
       "old parent              9.126712  \n",
       "other                  10.194140  \n",
       "pet_owners             10.176103  \n",
       "retired                10.157298  \n",
       "single_no_kids         10.179026  \n",
       "young parent            9.312758  "
      ]
     },
     "execution_count": 72,
     "metadata": {},
     "output_type": "execute_result"
    }
   ],
   "source": [
    "#comparing variables\n",
    "merged2.groupby('profile').agg({'prices':['max','min','mean'], 'days_since_prior_order':['max','min','mean']})"
   ]
  },
  {
   "cell_type": "markdown",
   "id": "98638c9b",
   "metadata": {},
   "source": [
    "## 8. "
   ]
  },
  {
   "cell_type": "code",
   "execution_count": 73,
   "id": "6c9841e3",
   "metadata": {},
   "outputs": [],
   "source": [
    "#customer profiles vs regions\n",
    "crosstab3 = pd.crosstab(merged2['profile'], merged2['region'], dropna = False)"
   ]
  },
  {
   "cell_type": "code",
   "execution_count": 74,
   "id": "b6d4dbef",
   "metadata": {},
   "outputs": [
    {
     "data": {
      "text/html": [
       "<div>\n",
       "<style scoped>\n",
       "    .dataframe tbody tr th:only-of-type {\n",
       "        vertical-align: middle;\n",
       "    }\n",
       "\n",
       "    .dataframe tbody tr th {\n",
       "        vertical-align: top;\n",
       "    }\n",
       "\n",
       "    .dataframe thead th {\n",
       "        text-align: right;\n",
       "    }\n",
       "</style>\n",
       "<table border=\"1\" class=\"dataframe\">\n",
       "  <thead>\n",
       "    <tr style=\"text-align: right;\">\n",
       "      <th>region</th>\n",
       "      <th>Midwest</th>\n",
       "      <th>Northeast</th>\n",
       "      <th>South</th>\n",
       "      <th>West</th>\n",
       "    </tr>\n",
       "    <tr>\n",
       "      <th>profile</th>\n",
       "      <th></th>\n",
       "      <th></th>\n",
       "      <th></th>\n",
       "      <th></th>\n",
       "    </tr>\n",
       "  </thead>\n",
       "  <tbody>\n",
       "    <tr>\n",
       "      <th>alcohol_drinkers</th>\n",
       "      <td>1212481</td>\n",
       "      <td>908295</td>\n",
       "      <td>1734393</td>\n",
       "      <td>1317653</td>\n",
       "    </tr>\n",
       "    <tr>\n",
       "      <th>average-income family</th>\n",
       "      <td>1181585</td>\n",
       "      <td>899933</td>\n",
       "      <td>1711867</td>\n",
       "      <td>1312366</td>\n",
       "    </tr>\n",
       "    <tr>\n",
       "      <th>high-income family</th>\n",
       "      <td>1212789</td>\n",
       "      <td>889533</td>\n",
       "      <td>1669488</td>\n",
       "      <td>1309757</td>\n",
       "    </tr>\n",
       "    <tr>\n",
       "      <th>meat_eaters</th>\n",
       "      <td>57808</td>\n",
       "      <td>43000</td>\n",
       "      <td>81845</td>\n",
       "      <td>60709</td>\n",
       "    </tr>\n",
       "    <tr>\n",
       "      <th>old parent</th>\n",
       "      <td>33227</td>\n",
       "      <td>25116</td>\n",
       "      <td>47939</td>\n",
       "      <td>36293</td>\n",
       "    </tr>\n",
       "    <tr>\n",
       "      <th>other</th>\n",
       "      <td>92575</td>\n",
       "      <td>60441</td>\n",
       "      <td>134661</td>\n",
       "      <td>93260</td>\n",
       "    </tr>\n",
       "    <tr>\n",
       "      <th>pet_owners</th>\n",
       "      <td>341238</td>\n",
       "      <td>262487</td>\n",
       "      <td>489251</td>\n",
       "      <td>370443</td>\n",
       "    </tr>\n",
       "    <tr>\n",
       "      <th>retired</th>\n",
       "      <td>1904046</td>\n",
       "      <td>1484807</td>\n",
       "      <td>2708461</td>\n",
       "      <td>2098230</td>\n",
       "    </tr>\n",
       "    <tr>\n",
       "      <th>single_no_kids</th>\n",
       "      <td>1205618</td>\n",
       "      <td>875715</td>\n",
       "      <td>1704619</td>\n",
       "      <td>1308458</td>\n",
       "    </tr>\n",
       "    <tr>\n",
       "      <th>young parent</th>\n",
       "      <td>20146</td>\n",
       "      <td>15358</td>\n",
       "      <td>28615</td>\n",
       "      <td>20058</td>\n",
       "    </tr>\n",
       "  </tbody>\n",
       "</table>\n",
       "</div>"
      ],
      "text/plain": [
       "region                 Midwest  Northeast    South     West\n",
       "profile                                                    \n",
       "alcohol_drinkers       1212481     908295  1734393  1317653\n",
       "average-income family  1181585     899933  1711867  1312366\n",
       "high-income family     1212789     889533  1669488  1309757\n",
       "meat_eaters              57808      43000    81845    60709\n",
       "old parent               33227      25116    47939    36293\n",
       "other                    92575      60441   134661    93260\n",
       "pet_owners              341238     262487   489251   370443\n",
       "retired                1904046    1484807  2708461  2098230\n",
       "single_no_kids         1205618     875715  1704619  1308458\n",
       "young parent             20146      15358    28615    20058"
      ]
     },
     "execution_count": 74,
     "metadata": {},
     "output_type": "execute_result"
    }
   ],
   "source": [
    "crosstab3"
   ]
  },
  {
   "cell_type": "code",
   "execution_count": 75,
   "id": "a94e3656",
   "metadata": {},
   "outputs": [],
   "source": [
    "#customer profiles vs department id\n",
    "crosstab4 = pd.crosstab(merged2['profile'], merged2['department_id'], dropna = False)"
   ]
  },
  {
   "cell_type": "code",
   "execution_count": 76,
   "id": "817d078d",
   "metadata": {},
   "outputs": [
    {
     "data": {
      "text/html": [
       "<div>\n",
       "<style scoped>\n",
       "    .dataframe tbody tr th:only-of-type {\n",
       "        vertical-align: middle;\n",
       "    }\n",
       "\n",
       "    .dataframe tbody tr th {\n",
       "        vertical-align: top;\n",
       "    }\n",
       "\n",
       "    .dataframe thead th {\n",
       "        text-align: right;\n",
       "    }\n",
       "</style>\n",
       "<table border=\"1\" class=\"dataframe\">\n",
       "  <thead>\n",
       "    <tr style=\"text-align: right;\">\n",
       "      <th>department_id</th>\n",
       "      <th>1</th>\n",
       "      <th>2</th>\n",
       "      <th>3</th>\n",
       "      <th>4</th>\n",
       "      <th>5</th>\n",
       "      <th>6</th>\n",
       "      <th>7</th>\n",
       "      <th>8</th>\n",
       "      <th>9</th>\n",
       "      <th>10</th>\n",
       "      <th>...</th>\n",
       "      <th>12</th>\n",
       "      <th>13</th>\n",
       "      <th>14</th>\n",
       "      <th>15</th>\n",
       "      <th>16</th>\n",
       "      <th>17</th>\n",
       "      <th>18</th>\n",
       "      <th>19</th>\n",
       "      <th>20</th>\n",
       "      <th>21</th>\n",
       "    </tr>\n",
       "    <tr>\n",
       "      <th>profile</th>\n",
       "      <th></th>\n",
       "      <th></th>\n",
       "      <th></th>\n",
       "      <th></th>\n",
       "      <th></th>\n",
       "      <th></th>\n",
       "      <th></th>\n",
       "      <th></th>\n",
       "      <th></th>\n",
       "      <th></th>\n",
       "      <th></th>\n",
       "      <th></th>\n",
       "      <th></th>\n",
       "      <th></th>\n",
       "      <th></th>\n",
       "      <th></th>\n",
       "      <th></th>\n",
       "      <th></th>\n",
       "      <th></th>\n",
       "      <th></th>\n",
       "      <th></th>\n",
       "    </tr>\n",
       "  </thead>\n",
       "  <tbody>\n",
       "    <tr>\n",
       "      <th>alcohol_drinkers</th>\n",
       "      <td>0</td>\n",
       "      <td>0</td>\n",
       "      <td>0</td>\n",
       "      <td>5172822</td>\n",
       "      <td>0</td>\n",
       "      <td>0</td>\n",
       "      <td>0</td>\n",
       "      <td>0</td>\n",
       "      <td>0</td>\n",
       "      <td>0</td>\n",
       "      <td>...</td>\n",
       "      <td>0</td>\n",
       "      <td>0</td>\n",
       "      <td>0</td>\n",
       "      <td>0</td>\n",
       "      <td>0</td>\n",
       "      <td>0</td>\n",
       "      <td>0</td>\n",
       "      <td>0</td>\n",
       "      <td>0</td>\n",
       "      <td>0</td>\n",
       "    </tr>\n",
       "    <tr>\n",
       "      <th>average-income family</th>\n",
       "      <td>594017</td>\n",
       "      <td>9669</td>\n",
       "      <td>312730</td>\n",
       "      <td>0</td>\n",
       "      <td>38415</td>\n",
       "      <td>73452</td>\n",
       "      <td>0</td>\n",
       "      <td>25971</td>\n",
       "      <td>238215</td>\n",
       "      <td>9283</td>\n",
       "      <td>...</td>\n",
       "      <td>202135</td>\n",
       "      <td>505502</td>\n",
       "      <td>179644</td>\n",
       "      <td>291183</td>\n",
       "      <td>1467876</td>\n",
       "      <td>191297</td>\n",
       "      <td>0</td>\n",
       "      <td>669299</td>\n",
       "      <td>278763</td>\n",
       "      <td>18300</td>\n",
       "    </tr>\n",
       "    <tr>\n",
       "      <th>high-income family</th>\n",
       "      <td>575208</td>\n",
       "      <td>9237</td>\n",
       "      <td>303123</td>\n",
       "      <td>0</td>\n",
       "      <td>41831</td>\n",
       "      <td>67391</td>\n",
       "      <td>0</td>\n",
       "      <td>25138</td>\n",
       "      <td>215604</td>\n",
       "      <td>9317</td>\n",
       "      <td>...</td>\n",
       "      <td>169944</td>\n",
       "      <td>476642</td>\n",
       "      <td>191953</td>\n",
       "      <td>267102</td>\n",
       "      <td>1385630</td>\n",
       "      <td>195585</td>\n",
       "      <td>0</td>\n",
       "      <td>858405</td>\n",
       "      <td>271856</td>\n",
       "      <td>17601</td>\n",
       "    </tr>\n",
       "    <tr>\n",
       "      <th>meat_eaters</th>\n",
       "      <td>0</td>\n",
       "      <td>0</td>\n",
       "      <td>0</td>\n",
       "      <td>0</td>\n",
       "      <td>0</td>\n",
       "      <td>0</td>\n",
       "      <td>0</td>\n",
       "      <td>0</td>\n",
       "      <td>0</td>\n",
       "      <td>0</td>\n",
       "      <td>...</td>\n",
       "      <td>0</td>\n",
       "      <td>0</td>\n",
       "      <td>0</td>\n",
       "      <td>0</td>\n",
       "      <td>0</td>\n",
       "      <td>0</td>\n",
       "      <td>0</td>\n",
       "      <td>0</td>\n",
       "      <td>0</td>\n",
       "      <td>0</td>\n",
       "    </tr>\n",
       "    <tr>\n",
       "      <th>old parent</th>\n",
       "      <td>0</td>\n",
       "      <td>0</td>\n",
       "      <td>0</td>\n",
       "      <td>0</td>\n",
       "      <td>0</td>\n",
       "      <td>0</td>\n",
       "      <td>0</td>\n",
       "      <td>0</td>\n",
       "      <td>0</td>\n",
       "      <td>0</td>\n",
       "      <td>...</td>\n",
       "      <td>0</td>\n",
       "      <td>0</td>\n",
       "      <td>0</td>\n",
       "      <td>0</td>\n",
       "      <td>0</td>\n",
       "      <td>0</td>\n",
       "      <td>142575</td>\n",
       "      <td>0</td>\n",
       "      <td>0</td>\n",
       "      <td>0</td>\n",
       "    </tr>\n",
       "    <tr>\n",
       "      <th>other</th>\n",
       "      <td>42865</td>\n",
       "      <td>687</td>\n",
       "      <td>23318</td>\n",
       "      <td>0</td>\n",
       "      <td>2720</td>\n",
       "      <td>5302</td>\n",
       "      <td>0</td>\n",
       "      <td>1259</td>\n",
       "      <td>16956</td>\n",
       "      <td>582</td>\n",
       "      <td>...</td>\n",
       "      <td>13295</td>\n",
       "      <td>36165</td>\n",
       "      <td>14115</td>\n",
       "      <td>19528</td>\n",
       "      <td>103830</td>\n",
       "      <td>13433</td>\n",
       "      <td>8459</td>\n",
       "      <td>55959</td>\n",
       "      <td>21383</td>\n",
       "      <td>1081</td>\n",
       "    </tr>\n",
       "    <tr>\n",
       "      <th>pet_owners</th>\n",
       "      <td>0</td>\n",
       "      <td>0</td>\n",
       "      <td>0</td>\n",
       "      <td>0</td>\n",
       "      <td>0</td>\n",
       "      <td>0</td>\n",
       "      <td>1463419</td>\n",
       "      <td>0</td>\n",
       "      <td>0</td>\n",
       "      <td>0</td>\n",
       "      <td>...</td>\n",
       "      <td>0</td>\n",
       "      <td>0</td>\n",
       "      <td>0</td>\n",
       "      <td>0</td>\n",
       "      <td>0</td>\n",
       "      <td>0</td>\n",
       "      <td>0</td>\n",
       "      <td>0</td>\n",
       "      <td>0</td>\n",
       "      <td>0</td>\n",
       "    </tr>\n",
       "    <tr>\n",
       "      <th>retired</th>\n",
       "      <td>564250</td>\n",
       "      <td>8946</td>\n",
       "      <td>295997</td>\n",
       "      <td>2408104</td>\n",
       "      <td>36693</td>\n",
       "      <td>67199</td>\n",
       "      <td>684020</td>\n",
       "      <td>25115</td>\n",
       "      <td>217316</td>\n",
       "      <td>8945</td>\n",
       "      <td>...</td>\n",
       "      <td>181150</td>\n",
       "      <td>472383</td>\n",
       "      <td>175296</td>\n",
       "      <td>267509</td>\n",
       "      <td>1368072</td>\n",
       "      <td>186630</td>\n",
       "      <td>106204</td>\n",
       "      <td>728549</td>\n",
       "      <td>265199</td>\n",
       "      <td>16915</td>\n",
       "    </tr>\n",
       "    <tr>\n",
       "      <th>single_no_kids</th>\n",
       "      <td>345391</td>\n",
       "      <td>5872</td>\n",
       "      <td>185660</td>\n",
       "      <td>1498347</td>\n",
       "      <td>24968</td>\n",
       "      <td>42647</td>\n",
       "      <td>424462</td>\n",
       "      <td>15577</td>\n",
       "      <td>134045</td>\n",
       "      <td>5324</td>\n",
       "      <td>...</td>\n",
       "      <td>108257</td>\n",
       "      <td>292013</td>\n",
       "      <td>109842</td>\n",
       "      <td>166752</td>\n",
       "      <td>851774</td>\n",
       "      <td>112912</td>\n",
       "      <td>68977</td>\n",
       "      <td>454194</td>\n",
       "      <td>166633</td>\n",
       "      <td>10871</td>\n",
       "    </tr>\n",
       "    <tr>\n",
       "      <th>young parent</th>\n",
       "      <td>0</td>\n",
       "      <td>0</td>\n",
       "      <td>0</td>\n",
       "      <td>0</td>\n",
       "      <td>0</td>\n",
       "      <td>0</td>\n",
       "      <td>0</td>\n",
       "      <td>0</td>\n",
       "      <td>0</td>\n",
       "      <td>0</td>\n",
       "      <td>...</td>\n",
       "      <td>0</td>\n",
       "      <td>0</td>\n",
       "      <td>0</td>\n",
       "      <td>0</td>\n",
       "      <td>0</td>\n",
       "      <td>0</td>\n",
       "      <td>84177</td>\n",
       "      <td>0</td>\n",
       "      <td>0</td>\n",
       "      <td>0</td>\n",
       "    </tr>\n",
       "  </tbody>\n",
       "</table>\n",
       "<p>10 rows × 21 columns</p>\n",
       "</div>"
      ],
      "text/plain": [
       "department_id              1     2       3        4      5      6        7   \\\n",
       "profile                                                                       \n",
       "alcohol_drinkers            0     0       0  5172822      0      0        0   \n",
       "average-income family  594017  9669  312730        0  38415  73452        0   \n",
       "high-income family     575208  9237  303123        0  41831  67391        0   \n",
       "meat_eaters                 0     0       0        0      0      0        0   \n",
       "old parent                  0     0       0        0      0      0        0   \n",
       "other                   42865   687   23318        0   2720   5302        0   \n",
       "pet_owners                  0     0       0        0      0      0  1463419   \n",
       "retired                564250  8946  295997  2408104  36693  67199   684020   \n",
       "single_no_kids         345391  5872  185660  1498347  24968  42647   424462   \n",
       "young parent                0     0       0        0      0      0        0   \n",
       "\n",
       "department_id             8       9     10  ...      12      13      14  \\\n",
       "profile                                     ...                           \n",
       "alcohol_drinkers           0       0     0  ...       0       0       0   \n",
       "average-income family  25971  238215  9283  ...  202135  505502  179644   \n",
       "high-income family     25138  215604  9317  ...  169944  476642  191953   \n",
       "meat_eaters                0       0     0  ...       0       0       0   \n",
       "old parent                 0       0     0  ...       0       0       0   \n",
       "other                   1259   16956   582  ...   13295   36165   14115   \n",
       "pet_owners                 0       0     0  ...       0       0       0   \n",
       "retired                25115  217316  8945  ...  181150  472383  175296   \n",
       "single_no_kids         15577  134045  5324  ...  108257  292013  109842   \n",
       "young parent               0       0     0  ...       0       0       0   \n",
       "\n",
       "department_id              15       16      17      18      19      20     21  \n",
       "profile                                                                        \n",
       "alcohol_drinkers            0        0       0       0       0       0      0  \n",
       "average-income family  291183  1467876  191297       0  669299  278763  18300  \n",
       "high-income family     267102  1385630  195585       0  858405  271856  17601  \n",
       "meat_eaters                 0        0       0       0       0       0      0  \n",
       "old parent                  0        0       0  142575       0       0      0  \n",
       "other                   19528   103830   13433    8459   55959   21383   1081  \n",
       "pet_owners                  0        0       0       0       0       0      0  \n",
       "retired                267509  1368072  186630  106204  728549  265199  16915  \n",
       "single_no_kids         166752   851774  112912   68977  454194  166633  10871  \n",
       "young parent                0        0       0   84177       0       0      0  \n",
       "\n",
       "[10 rows x 21 columns]"
      ]
     },
     "execution_count": 76,
     "metadata": {},
     "output_type": "execute_result"
    }
   ],
   "source": [
    "crosstab4"
   ]
  },
  {
   "cell_type": "markdown",
   "id": "1f33a9ab",
   "metadata": {},
   "source": [
    "#from just looking at these crosstabs its hard to tell specifically if there are links between regions and customer profiles. Making visualizations of this will help determine if anything stands out. It also is counting total numbers of each customer profile in each region which is not a good comparison because one region could have more customers than another and we should be looking at the % of customer profile within each region to compare them. "
   ]
  },
  {
   "cell_type": "markdown",
   "id": "7677c1c8",
   "metadata": {},
   "source": [
    "## 9."
   ]
  },
  {
   "cell_type": "code",
   "execution_count": 85,
   "id": "65955687",
   "metadata": {},
   "outputs": [
    {
     "data": {
      "text/plain": [
       "Text(0.5, 1.0, 'Instacart orders by profile and region')"
      ]
     },
     "execution_count": 85,
     "metadata": {},
     "output_type": "execute_result"
    },
    {
     "data": {
      "image/png": "[encoded data removed]",
      "text/plain": [
       "<Figure size 1000x500 with 1 Axes>"
      ]
     },
     "metadata": {},
     "output_type": "display_data"
    }
   ],
   "source": [
    "#profile region bar chart\n",
    "bar_profile_region = crosstab3.loc[:,['Midwest','Northeast','South','West']].apply(lambda x: x*100/sum(x), axis=1).plot.bar(stacked=True, rot=45, figsize=(10,5), colormap='inferno').legend(title=\"Region\", bbox_to_anchor=(1.0,1.0))\n",
    "plt.ylabel(\"% of orders by region\")\n",
    "plt.title (\"Instacart orders by profile and region\")"
   ]
  },
  {
   "cell_type": "code",
   "execution_count": 86,
   "id": "26c4e281",
   "metadata": {},
   "outputs": [],
   "source": [
    "#saving bar chart\n",
    "bar_profile_region.figure.savefig(os.path.join(path, '04 Analysis', 'Visualizations','profile_region_bar.png'))"
   ]
  },
  {
   "cell_type": "code",
   "execution_count": 92,
   "id": "2c835e00",
   "metadata": {
    "scrolled": false
   },
   "outputs": [
    {
     "data": {
      "text/plain": [
       "Text(0.5, 1.0, 'Instacart orders by profile and department')"
      ]
     },
     "execution_count": 92,
     "metadata": {},
     "output_type": "execute_result"
    },
    {
     "data": {
      "image/png": "[encoded data removed]",
      "text/plain": [
       "<Figure size 1000x500 with 1 Axes>"
      ]
     },
     "metadata": {},
     "output_type": "display_data"
    }
   ],
   "source": [
    "#profile department bar chart\n",
    "bar_profile_department = crosstab4.loc[:,[1,2,3,4,5,6,7,8,9,10,11,12,13,14,15,16,17,18,19,20,21]].apply(lambda x: x*100/sum(x), axis=1).plot.bar(stacked=True, rot=45, figsize=(10,5), colormap='inferno').legend(title=\"Dept ID\", bbox_to_anchor=(1.0,1.0))\n",
    "plt.ylabel(\"% of orders by Department\")\n",
    "plt.title (\"Instacart orders by profile and department\")"
   ]
  },
  {
   "cell_type": "code",
   "execution_count": 93,
   "id": "c0df359e",
   "metadata": {},
   "outputs": [],
   "source": [
    "bar_profile_department.figure.savefig(os.path.join(path, '04 Analysis', 'Visualizations','profile_department_bar.png'))"
   ]
  },
  {
   "cell_type": "code",
   "execution_count": 94,
   "id": "02c44d61",
   "metadata": {},
   "outputs": [],
   "source": [
    "#export data\n",
    "merged2.to_pickle(os.path.join(path, '02 Data','Prepared Data', 'merged.pkl'))"
   ]
  },
  {
   "cell_type": "code",
   "execution_count": 95,
   "id": "67e36bc2",
   "metadata": {},
   "outputs": [],
   "source": [
    "df_departments.to_csv(os.path.join(path, '02 Data','Prepared Data', 'departments_wrangled.csv'))"
   ]
  },
  {
   "cell_type": "code",
   "execution_count": null,
   "id": "ef782983",
   "metadata": {},
   "outputs": [],
   "source": []
  }
 ],
 "metadata": {
  "kernelspec": {
   "display_name": "Python 3 (ipykernel)",
   "language": "python",
   "name": "python3"
  },
  "language_info": {
   "codemirror_mode": {
    "name": "ipython",
    "version": 3
   },
   "file_extension": ".py",
   "mimetype": "text/x-python",
   "name": "python",
   "nbconvert_exporter": "python",
   "pygments_lexer": "ipython3",
   "version": "3.9.13"
  }
 },
 "nbformat": 4,
 "nbformat_minor": 5
}
