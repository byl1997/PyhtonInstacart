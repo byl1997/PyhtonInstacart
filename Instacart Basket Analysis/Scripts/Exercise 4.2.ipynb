{
 "cells": [
  {
   "cell_type": "markdown",
   "id": "2d2da8ef",
   "metadata": {},
   "source": [
    "# Exercise 4.2, David Byl"
   ]
  },
  {
   "cell_type": "markdown",
   "id": "f2177f43",
   "metadata": {},
   "source": [
    "## 01. Install Libraries"
   ]
  },
  {
   "cell_type": "code",
   "execution_count": 1,
   "id": "f5ce77f4",
   "metadata": {},
   "outputs": [],
   "source": [
    "#installing libraries\n",
    "import pandas as pd\n",
    "import numpy as np\n",
    "import os"
   ]
  },
  {
   "cell_type": "markdown",
   "id": "d5ea5d24",
   "metadata": {},
   "source": [
    "## 02. Python Data Types"
   ]
  },
  {
   "cell_type": "code",
   "execution_count": 3,
   "id": "4bbe158c",
   "metadata": {},
   "outputs": [],
   "source": [
    "x=60"
   ]
  },
  {
   "cell_type": "code",
   "execution_count": 4,
   "id": "396f1a4f",
   "metadata": {},
   "outputs": [],
   "source": [
    "y=40"
   ]
  },
  {
   "cell_type": "code",
   "execution_count": 5,
   "id": "de1e2510",
   "metadata": {},
   "outputs": [
    {
     "data": {
      "text/plain": [
       "100"
      ]
     },
     "execution_count": 5,
     "metadata": {},
     "output_type": "execute_result"
    }
   ],
   "source": [
    "x+y"
   ]
  },
  {
   "cell_type": "code",
   "execution_count": 6,
   "id": "578c0fcd",
   "metadata": {},
   "outputs": [],
   "source": [
    "z=10"
   ]
  },
  {
   "cell_type": "code",
   "execution_count": 7,
   "id": "09675286",
   "metadata": {},
   "outputs": [],
   "source": [
    "a=90"
   ]
  },
  {
   "cell_type": "code",
   "execution_count": 8,
   "id": "20368ea5",
   "metadata": {},
   "outputs": [
    {
     "data": {
      "text/plain": [
       "100"
      ]
     },
     "execution_count": 8,
     "metadata": {},
     "output_type": "execute_result"
    }
   ],
   "source": [
    "z+a"
   ]
  },
  {
   "cell_type": "code",
   "execution_count": 13,
   "id": "37734a4b",
   "metadata": {},
   "outputs": [],
   "source": [
    "b=120"
   ]
  },
  {
   "cell_type": "code",
   "execution_count": 14,
   "id": "5f1bcfef",
   "metadata": {},
   "outputs": [],
   "source": [
    "c=20"
   ]
  },
  {
   "cell_type": "code",
   "execution_count": 15,
   "id": "ec48d28f",
   "metadata": {},
   "outputs": [
    {
     "data": {
      "text/plain": [
       "100"
      ]
     },
     "execution_count": 15,
     "metadata": {},
     "output_type": "execute_result"
    }
   ],
   "source": [
    "b-c"
   ]
  },
  {
   "cell_type": "code",
   "execution_count": 16,
   "id": "f59c46e9",
   "metadata": {},
   "outputs": [],
   "source": [
    "d=8.341"
   ]
  },
  {
   "cell_type": "code",
   "execution_count": 17,
   "id": "ef0c9cd2",
   "metadata": {},
   "outputs": [],
   "source": [
    "f=2.826"
   ]
  },
  {
   "cell_type": "code",
   "execution_count": 18,
   "id": "1692f164",
   "metadata": {},
   "outputs": [
    {
     "data": {
      "text/plain": [
       "2.9515215852795467"
      ]
     },
     "execution_count": 18,
     "metadata": {},
     "output_type": "execute_result"
    }
   ],
   "source": [
    "d/f"
   ]
  },
  {
   "cell_type": "code",
   "execution_count": 19,
   "id": "17f7068f",
   "metadata": {},
   "outputs": [],
   "source": [
    "g='conca'"
   ]
  },
  {
   "cell_type": "code",
   "execution_count": 30,
   "id": "86193dcf",
   "metadata": {},
   "outputs": [],
   "source": [
    "h='tenate.'"
   ]
  },
  {
   "cell_type": "code",
   "execution_count": 31,
   "id": "413c89a6",
   "metadata": {},
   "outputs": [
    {
     "data": {
      "text/plain": [
       "'concatenate.'"
      ]
     },
     "execution_count": 31,
     "metadata": {},
     "output_type": "execute_result"
    }
   ],
   "source": [
    "g+h"
   ]
  },
  {
   "cell_type": "code",
   "execution_count": 32,
   "id": "9513fb7a",
   "metadata": {},
   "outputs": [],
   "source": [
    "i=g+h"
   ]
  },
  {
   "cell_type": "code",
   "execution_count": 33,
   "id": "139ca2e4",
   "metadata": {},
   "outputs": [
    {
     "name": "stdout",
     "output_type": "stream",
     "text": [
      "concatenate.\n"
     ]
    }
   ],
   "source": [
    "print(i)"
   ]
  },
  {
   "cell_type": "code",
   "execution_count": 34,
   "id": "73536cda",
   "metadata": {},
   "outputs": [],
   "source": [
    "j='We need to '"
   ]
  },
  {
   "cell_type": "code",
   "execution_count": 35,
   "id": "93e82c74",
   "metadata": {},
   "outputs": [
    {
     "data": {
      "text/plain": [
       "'We need to concatenate.'"
      ]
     },
     "execution_count": 35,
     "metadata": {},
     "output_type": "execute_result"
    }
   ],
   "source": [
    "j+i"
   ]
  },
  {
   "cell_type": "code",
   "execution_count": 39,
   "id": "1572b9fd",
   "metadata": {},
   "outputs": [],
   "source": [
    "k= ' Then the exercise will be done.'"
   ]
  },
  {
   "cell_type": "code",
   "execution_count": 40,
   "id": "aa89baa6",
   "metadata": {},
   "outputs": [
    {
     "name": "stdout",
     "output_type": "stream",
     "text": [
      " Then the exercise will be done.\n"
     ]
    }
   ],
   "source": [
    "print(k)"
   ]
  },
  {
   "cell_type": "code",
   "execution_count": 42,
   "id": "04d9f00a",
   "metadata": {},
   "outputs": [
    {
     "data": {
      "text/plain": [
       "'We need to concatenate. Then the exercise will be done.'"
      ]
     },
     "execution_count": 42,
     "metadata": {},
     "output_type": "execute_result"
    }
   ],
   "source": [
    "j+i+k"
   ]
  },
  {
   "cell_type": "code",
   "execution_count": 44,
   "id": "5a829099",
   "metadata": {},
   "outputs": [],
   "source": [
    "l=j+i+k"
   ]
  },
  {
   "cell_type": "code",
   "execution_count": 45,
   "id": "e4f8ce3f",
   "metadata": {},
   "outputs": [
    {
     "data": {
      "text/plain": [
       "'We need to concatenate. Then the exercise will be done.We need to concatenate. Then the exercise will be done.We need to concatenate. Then the exercise will be done.We need to concatenate. Then the exercise will be done.We need to concatenate. Then the exercise will be done.We need to concatenate. Then the exercise will be done.We need to concatenate. Then the exercise will be done.We need to concatenate. Then the exercise will be done.We need to concatenate. Then the exercise will be done.We need to concatenate. Then the exercise will be done.We need to concatenate. Then the exercise will be done.We need to concatenate. Then the exercise will be done.We need to concatenate. Then the exercise will be done.We need to concatenate. Then the exercise will be done.We need to concatenate. Then the exercise will be done.We need to concatenate. Then the exercise will be done.We need to concatenate. Then the exercise will be done.We need to concatenate. Then the exercise will be done.We need to concatenate. Then the exercise will be done.We need to concatenate. Then the exercise will be done.We need to concatenate. Then the exercise will be done.We need to concatenate. Then the exercise will be done.We need to concatenate. Then the exercise will be done.We need to concatenate. Then the exercise will be done.We need to concatenate. Then the exercise will be done.We need to concatenate. Then the exercise will be done.We need to concatenate. Then the exercise will be done.We need to concatenate. Then the exercise will be done.We need to concatenate. Then the exercise will be done.We need to concatenate. Then the exercise will be done.We need to concatenate. Then the exercise will be done.We need to concatenate. Then the exercise will be done.We need to concatenate. Then the exercise will be done.We need to concatenate. Then the exercise will be done.We need to concatenate. Then the exercise will be done.We need to concatenate. Then the exercise will be done.We need to concatenate. Then the exercise will be done.We need to concatenate. Then the exercise will be done.We need to concatenate. Then the exercise will be done.We need to concatenate. Then the exercise will be done.We need to concatenate. Then the exercise will be done.We need to concatenate. Then the exercise will be done.We need to concatenate. Then the exercise will be done.We need to concatenate. Then the exercise will be done.We need to concatenate. Then the exercise will be done.We need to concatenate. Then the exercise will be done.We need to concatenate. Then the exercise will be done.We need to concatenate. Then the exercise will be done.We need to concatenate. Then the exercise will be done.We need to concatenate. Then the exercise will be done.We need to concatenate. Then the exercise will be done.We need to concatenate. Then the exercise will be done.We need to concatenate. Then the exercise will be done.We need to concatenate. Then the exercise will be done.We need to concatenate. Then the exercise will be done.We need to concatenate. Then the exercise will be done.We need to concatenate. Then the exercise will be done.We need to concatenate. Then the exercise will be done.We need to concatenate. Then the exercise will be done.We need to concatenate. Then the exercise will be done.We need to concatenate. Then the exercise will be done.We need to concatenate. Then the exercise will be done.We need to concatenate. Then the exercise will be done.We need to concatenate. Then the exercise will be done.We need to concatenate. Then the exercise will be done.We need to concatenate. Then the exercise will be done.We need to concatenate. Then the exercise will be done.We need to concatenate. Then the exercise will be done.We need to concatenate. Then the exercise will be done.We need to concatenate. Then the exercise will be done.We need to concatenate. Then the exercise will be done.We need to concatenate. Then the exercise will be done.We need to concatenate. Then the exercise will be done.We need to concatenate. Then the exercise will be done.We need to concatenate. Then the exercise will be done.We need to concatenate. Then the exercise will be done.We need to concatenate. Then the exercise will be done.We need to concatenate. Then the exercise will be done.We need to concatenate. Then the exercise will be done.We need to concatenate. Then the exercise will be done.We need to concatenate. Then the exercise will be done.We need to concatenate. Then the exercise will be done.We need to concatenate. Then the exercise will be done.We need to concatenate. Then the exercise will be done.We need to concatenate. Then the exercise will be done.We need to concatenate. Then the exercise will be done.We need to concatenate. Then the exercise will be done.We need to concatenate. Then the exercise will be done.We need to concatenate. Then the exercise will be done.We need to concatenate. Then the exercise will be done.We need to concatenate. Then the exercise will be done.We need to concatenate. Then the exercise will be done.We need to concatenate. Then the exercise will be done.We need to concatenate. Then the exercise will be done.We need to concatenate. Then the exercise will be done.We need to concatenate. Then the exercise will be done.We need to concatenate. Then the exercise will be done.We need to concatenate. Then the exercise will be done.We need to concatenate. Then the exercise will be done.We need to concatenate. Then the exercise will be done.'"
      ]
     },
     "execution_count": 45,
     "metadata": {},
     "output_type": "execute_result"
    }
   ],
   "source": [
    "l*100"
   ]
  },
  {
   "cell_type": "code",
   "execution_count": null,
   "id": "f4b3b61d",
   "metadata": {},
   "outputs": [],
   "source": []
  }
 ],
 "metadata": {
  "kernelspec": {
   "display_name": "Python 3 (ipykernel)",
   "language": "python",
   "name": "python3"
  },
  "language_info": {
   "codemirror_mode": {
    "name": "ipython",
    "version": 3
   },
   "file_extension": ".py",
   "mimetype": "text/x-python",
   "name": "python",
   "nbconvert_exporter": "python",
   "pygments_lexer": "ipython3",
   "version": "3.9.13"
  }
 },
 "nbformat": 4,
 "nbformat_minor": 5
}
